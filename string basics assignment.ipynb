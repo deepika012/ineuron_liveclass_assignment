{
 "cells": [
  {
   "cell_type": "markdown",
   "id": "1f865ee3",
   "metadata": {},
   "source": [
    "# s = \"this is my First Python Programming class and i am learNING python basics and string\""
   ]
  },
  {
   "cell_type": "code",
   "execution_count": 2,
   "id": "308ae117",
   "metadata": {},
   "outputs": [
    {
     "data": {
      "text/plain": [
       "'this is my First Python Programming class and i am learNING python basics and string'"
      ]
     },
     "execution_count": 2,
     "metadata": {},
     "output_type": "execute_result"
    }
   ],
   "source": [
    "s"
   ]
  },
  {
   "cell_type": "markdown",
   "id": "5a5b4825",
   "metadata": {},
   "source": [
    "#  2 extracting from 0 to 300the index with a jump of 2"
   ]
  },
  {
   "cell_type": "code",
   "execution_count": 3,
   "id": "acf95ecf",
   "metadata": {},
   "outputs": [
    {
     "data": {
      "text/plain": [
       "'ti sm is yhnPormigcasadia erIGpto aisadsrn'"
      ]
     },
     "execution_count": 3,
     "metadata": {},
     "output_type": "execute_result"
    }
   ],
   "source": [
    "s[0:300:2]"
   ]
  },
  {
   "cell_type": "markdown",
   "id": "ce850a39",
   "metadata": {},
   "source": [
    "##  3 reversing string without using reverse function"
   ]
  },
  {
   "cell_type": "code",
   "execution_count": 4,
   "id": "9dcaadc1",
   "metadata": {},
   "outputs": [
    {
     "data": {
      "text/plain": [
       "'gnirts dna scisab nohtyp GNINrael ma i dna ssalc gnimmargorP nohtyP tsriF ym si siht'"
      ]
     },
     "execution_count": 4,
     "metadata": {},
     "output_type": "execute_result"
    }
   ],
   "source": [
    "s[::-1]"
   ]
  },
  {
   "cell_type": "markdown",
   "id": "32d837d7",
   "metadata": {},
   "source": [
    "# 4 splitting after converting into upper case"
   ]
  },
  {
   "cell_type": "code",
   "execution_count": 14,
   "id": "220ab50d",
   "metadata": {},
   "outputs": [],
   "source": [
    " s=s.upper()"
   ]
  },
  {
   "cell_type": "code",
   "execution_count": 15,
   "id": "e99c939b",
   "metadata": {},
   "outputs": [
    {
     "data": {
      "text/plain": [
       "['THIS',\n",
       " 'IS',\n",
       " 'MY',\n",
       " 'FIRST',\n",
       " 'PYTHON',\n",
       " 'PROGRAMMING',\n",
       " 'CLASS',\n",
       " 'AND',\n",
       " 'I',\n",
       " 'AM',\n",
       " 'LEARNING',\n",
       " 'PYTHON',\n",
       " 'BASICS',\n",
       " 'AND',\n",
       " 'STRING']"
      ]
     },
     "execution_count": 15,
     "metadata": {},
     "output_type": "execute_result"
    }
   ],
   "source": [
    "s.split(' ')"
   ]
  },
  {
   "cell_type": "markdown",
   "id": "43292b7d",
   "metadata": {},
   "source": [
    "# 5 capitalise the whole string"
   ]
  },
  {
   "cell_type": "code",
   "execution_count": 8,
   "id": "6794e967",
   "metadata": {},
   "outputs": [
    {
     "data": {
      "text/plain": [
       "'This is my first python programming class and i am learning python basics and string'"
      ]
     },
     "execution_count": 8,
     "metadata": {},
     "output_type": "execute_result"
    }
   ],
   "source": [
    "s.capitalize()"
   ]
  },
  {
   "cell_type": "code",
   "execution_count": 9,
   "id": "91198f35",
   "metadata": {},
   "outputs": [
    {
     "data": {
      "text/plain": [
       "'this is my First Python Programming class and i am learNING python basics and string'"
      ]
     },
     "execution_count": 9,
     "metadata": {},
     "output_type": "execute_result"
    }
   ],
   "source": [
    "s"
   ]
  },
  {
   "cell_type": "markdown",
   "id": "d6dd8ddd",
   "metadata": {},
   "source": [
    "#  6 write a diff btw isalphanum() and isalpha\n",
    "\n",
    " isalpha() : it is a function which return true when the whole string is contains only alphabets. Not even a single  whitespaces\n",
    " whereas\n",
    " isalphanum() : is a function which returns true when the string contains boths the alphabets and the numerical value.\n",
    " if whiespaces will be there it will return true."
   ]
  },
  {
   "cell_type": "code",
   "execution_count": 30,
   "id": "f15ffa0f",
   "metadata": {},
   "outputs": [
    {
     "data": {
      "text/plain": [
       "False"
      ]
     },
     "execution_count": 30,
     "metadata": {},
     "output_type": "execute_result"
    }
   ],
   "source": [
    " t = \"deepika@123\"\n",
    " t.isalpha()"
   ]
  },
  {
   "cell_type": "code",
   "execution_count": 23,
   "id": "a37971ce",
   "metadata": {},
   "outputs": [
    {
     "data": {
      "text/plain": [
       "False"
      ]
     },
     "execution_count": 23,
     "metadata": {},
     "output_type": "execute_result"
    }
   ],
   "source": [
    "t.isalnum()"
   ]
  },
  {
   "cell_type": "markdown",
   "id": "4ebda10a",
   "metadata": {},
   "source": [
    "#####  is alnum is coming false because it contains white space "
   ]
  },
  {
   "cell_type": "code",
   "execution_count": null,
   "id": "a8c59aba",
   "metadata": {},
   "outputs": [],
   "source": [
    "b=\"deepika123\""
   ]
  },
  {
   "cell_type": "code",
   "execution_count": 27,
   "id": "c1307261",
   "metadata": {},
   "outputs": [
    {
     "ename": "NameError",
     "evalue": "name 'b' is not defined",
     "output_type": "error",
     "traceback": [
      "\u001b[1;31m---------------------------------------------------------------------------\u001b[0m",
      "\u001b[1;31mNameError\u001b[0m                                 Traceback (most recent call last)",
      "Input \u001b[1;32mIn [27]\u001b[0m, in \u001b[0;36m<cell line: 1>\u001b[1;34m()\u001b[0m\n\u001b[1;32m----> 1\u001b[0m \u001b[43mb\u001b[49m\n",
      "\u001b[1;31mNameError\u001b[0m: name 'b' is not defined"
     ]
    }
   ],
   "source": [
    "b"
   ]
  },
  {
   "cell_type": "markdown",
   "id": "2336df4a",
   "metadata": {},
   "source": [
    "#  7 example of expand tab\n",
    "it exchange the \"\\t\" with whitespace. and we five the number of white spaces under expandtabs() function"
   ]
  },
  {
   "cell_type": "code",
   "execution_count": 38,
   "id": "03998d6b",
   "metadata": {},
   "outputs": [],
   "source": [
    "s1 = \"My\\tname\\tis\\tdeepika\""
   ]
  },
  {
   "cell_type": "code",
   "execution_count": 39,
   "id": "3345dd45",
   "metadata": {},
   "outputs": [
    {
     "data": {
      "text/plain": [
       "'My\\tname\\tis\\tdeepika'"
      ]
     },
     "execution_count": 39,
     "metadata": {},
     "output_type": "execute_result"
    }
   ],
   "source": [
    "s1"
   ]
  },
  {
   "cell_type": "code",
   "execution_count": 41,
   "id": "433ca65d",
   "metadata": {},
   "outputs": [
    {
     "data": {
      "text/plain": [
       "'My   name is   deepika'"
      ]
     },
     "execution_count": 41,
     "metadata": {},
     "output_type": "execute_result"
    }
   ],
   "source": [
    "s1.expandtabs(5)"
   ]
  },
  {
   "cell_type": "markdown",
   "id": "048a2320",
   "metadata": {},
   "source": [
    "#  8 example of strip , lstrip and rstrip"
   ]
  },
  {
   "cell_type": "code",
   "execution_count": 45,
   "id": "5cd7c198",
   "metadata": {},
   "outputs": [],
   "source": [
    "s2 = \"--------datascience----------\""
   ]
  },
  {
   "cell_type": "code",
   "execution_count": 47,
   "id": "0b916417",
   "metadata": {},
   "outputs": [
    {
     "data": {
      "text/plain": [
       "'datascience'"
      ]
     },
     "execution_count": 47,
     "metadata": {},
     "output_type": "execute_result"
    }
   ],
   "source": [
    "s2.strip('-')"
   ]
  },
  {
   "cell_type": "code",
   "execution_count": 48,
   "id": "0d6f96bc",
   "metadata": {},
   "outputs": [
    {
     "data": {
      "text/plain": [
       "'datascience----------'"
      ]
     },
     "execution_count": 48,
     "metadata": {},
     "output_type": "execute_result"
    }
   ],
   "source": [
    "s2.lstrip('-')"
   ]
  },
  {
   "cell_type": "code",
   "execution_count": 49,
   "id": "c82c1304",
   "metadata": {},
   "outputs": [
    {
     "data": {
      "text/plain": [
       "'--------datascience'"
      ]
     },
     "execution_count": 49,
     "metadata": {},
     "output_type": "execute_result"
    }
   ],
   "source": [
    "s2.rstrip('-')"
   ]
  },
  {
   "cell_type": "markdown",
   "id": "61c6c474",
   "metadata": {},
   "source": [
    "# 9 replace a string character"
   ]
  },
  {
   "cell_type": "code",
   "execution_count": 51,
   "id": "5939e019",
   "metadata": {},
   "outputs": [
    {
     "data": {
      "text/plain": [
       "'--------dataanalyst----------'"
      ]
     },
     "execution_count": 51,
     "metadata": {},
     "output_type": "execute_result"
    }
   ],
   "source": [
    " s2.replace('datascience','dataanalyst')"
   ]
  },
  {
   "cell_type": "code",
   "execution_count": 54,
   "id": "03985e2f",
   "metadata": {},
   "outputs": [],
   "source": [
    "s3 =  s2.replace('datascience','dataanalyst')"
   ]
  },
  {
   "cell_type": "code",
   "execution_count": 55,
   "id": "145ffcd0",
   "metadata": {},
   "outputs": [
    {
     "data": {
      "text/plain": [
       "'--------dataanalyst----------'"
      ]
     },
     "execution_count": 55,
     "metadata": {},
     "output_type": "execute_result"
    }
   ],
   "source": [
    "s3"
   ]
  },
  {
   "cell_type": "markdown",
   "id": "3d4dad33",
   "metadata": {},
   "source": [
    "# 10  try to give a definition of string centre function with example.\n",
    "\n",
    "Centre function will try to put the text in between the characters which we will mention in the function.\n",
    "The center function will contain two arguments. first will be the total length of the string and and second will be the charater which needs to be print before and after the print and it will ne enclosed under the single quotes.\n",
    "\n",
    "Here 10 is the total length of the string and '*' is the character which will get printed in the rest of the left spaces after writting the papaya in between"
   ]
  },
  {
   "cell_type": "code",
   "execution_count": 59,
   "id": "eb3cc723",
   "metadata": {},
   "outputs": [],
   "source": [
    "p = \"papaya\""
   ]
  },
  {
   "cell_type": "code",
   "execution_count": 64,
   "id": "efd07f33",
   "metadata": {},
   "outputs": [],
   "source": [
    " p1 = p.center(10,'*')"
   ]
  },
  {
   "cell_type": "code",
   "execution_count": 65,
   "id": "012f7bab",
   "metadata": {},
   "outputs": [
    {
     "data": {
      "text/plain": [
       "'*******papaya*******'"
      ]
     },
     "execution_count": 65,
     "metadata": {},
     "output_type": "execute_result"
    }
   ],
   "source": [
    "p1"
   ]
  },
  {
   "cell_type": "markdown",
   "id": "5bcfd6db",
   "metadata": {},
   "source": [
    "# 11  compiler and interpreter\n",
    "\n",
    "compiler and interpreter both are the devices which converts the high level langauges into the langauge which computer can understand that is the langauge of 0's and 1 and that is know as binary langauge.\n",
    "\n",
    "but the main difference between them is that interpreter translates the one line at a time whereas compiler tranlates the whole code at once. interpreter is used in python , javascript whereas complier is used in  c , c++ , java"
   ]
  },
  {
   "cell_type": "markdown",
   "id": "de66c1d2",
   "metadata": {},
   "source": [
    "# 12  python is a interpreted of compiled langauge, give your understanding.\n",
    "\n",
    "By definition we know that compiler converts the source code into byte code at once whereas interpreter converts the source cde into byte code line by line and given the example that python is a interpreted langauge.\n",
    "But python is first compiled by the system which is generally hidden to us and it gets interpreted. Unlike in c or c++ we get a exe file created once it gets complied but it is not the case with python. It though gets compiled but it is invisible to us"
   ]
  },
  {
   "cell_type": "markdown",
   "id": "73bc5b9a",
   "metadata": {},
   "source": [
    "#  usecase of python as per my undestanding\n",
    "As per my information, python is a very easy langauge to understand when gets compared with c , c++ and java. because it gives more freedom to programmer and there is no need to define the datatypes of variable strictly.\n",
    "\n",
    "1 - python is used in game development.\n",
    "2 - python and sql is very useful for data analyst to do the work of analysis of data.\n",
    "3 - It is also used in web development.\n",
    "4 - It is also used in building web3 application"
   ]
  }
 ],
 "metadata": {
  "kernelspec": {
   "display_name": "Python 3 (ipykernel)",
   "language": "python",
   "name": "python3"
  },
  "language_info": {
   "codemirror_mode": {
    "name": "ipython",
    "version": 3
   },
   "file_extension": ".py",
   "mimetype": "text/x-python",
   "name": "python",
   "nbconvert_exporter": "python",
   "pygments_lexer": "ipython3",
   "version": "3.9.12"
  }
 },
 "nbformat": 4,
 "nbformat_minor": 5
}
