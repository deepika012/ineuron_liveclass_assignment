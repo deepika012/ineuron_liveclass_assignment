{
 "cells": [
  {
   "cell_type": "markdown",
   "id": "8836f5b3",
   "metadata": {},
   "source": [
    "# 1 print pattern"
   ]
  },
  {
   "cell_type": "code",
   "execution_count": 12,
   "id": "5ce6294f",
   "metadata": {},
   "outputs": [
    {
     "name": "stdout",
     "output_type": "stream",
     "text": [
      "\n",
      "\n",
      "ineuron \n",
      "\n",
      "ineuron ineuron \n",
      "\n",
      "ineuron ineuron ineuron \n",
      "\n",
      "ineuron ineuron ineuron ineuron \n",
      "\n"
     ]
    }
   ],
   "source": [
    "n = 5\n",
    "s= \"ineuron\"\n",
    "for i in range(n):\n",
    "    for j in range(0, 0+i) :\n",
    "        print(s, end=\" \")\n",
    "    print(\"\\n\")"
   ]
  },
  {
   "cell_type": "markdown",
   "id": "458d57a2",
   "metadata": {},
   "source": [
    "# 2 print pattern"
   ]
  },
  {
   "cell_type": "code",
   "execution_count": null,
   "id": "3c897e72",
   "metadata": {},
   "outputs": [],
   "source": [
    "doubt : how to do this using for loop\n",
    "    sir\n",
    "    "
   ]
  },
  {
   "cell_type": "code",
   "execution_count": 68,
   "id": "9eeb92b7",
   "metadata": {},
   "outputs": [
    {
     "name": "stdout",
     "output_type": "stream",
     "text": [
      "                                                  \n",
      "                     ineuron                      \n",
      "                 ineuron ineuron                  \n",
      "             ineuron ineuron ineuron              \n",
      "                 ineuron ineuron                  \n",
      "                     ineuron                      \n"
     ]
    }
   ],
   "source": [
    "for i in range(6):\n",
    "    if i <=3:\n",
    "        n=i\n",
    "    else:\n",
    "         n=6-i\n",
    "    print((\"ineuron \"*n).center(50,' '))"
   ]
  },
  {
   "cell_type": "code",
   "execution_count": 71,
   "id": "b6a80004",
   "metadata": {},
   "outputs": [
    {
     "name": "stdout",
     "output_type": "stream",
     "text": [
      "\n",
      "\n",
      "______ineuron_______ \n",
      "\n",
      "______ineuron_______ ______ineuron_______ \n",
      "\n",
      "______ineuron_______ ______ineuron_______ ______ineuron_______ \n",
      "\n",
      "        ineuron        ineuron \n",
      "\n",
      "        ineuron \n",
      "\n",
      "\n",
      "\n",
      "\n",
      "\n"
     ]
    }
   ],
   "source": [
    "n = 4\n",
    "s= \"ineuron\"\n",
    "for i in range (4) :\n",
    "    for j in range(0,0+i):\n",
    "        print(s.center(20,'_'),end = \" \")\n",
    "    print(\"\\n\") \n",
    "for i in range (4) :\n",
    "    for j in range(0,0+j):\n",
    "        print(\" \" * (len(s)-j),s,end= \" \")\n",
    "    print(\"\\n\")     \n",
    "  "
   ]
  },
  {
   "cell_type": "code",
   "execution_count": 3,
   "id": "730e0193",
   "metadata": {},
   "outputs": [],
   "source": [
    "l=[[1,2,3,4],(2,3,4,5,6), (3,4,5,6,7),set([23,4,5,45,4,4,5,45,45,4,5]),{'k1':\"sudh\", 'k2':\"ineuron\", 'k3' : \"kumar\", 3:6 ,7:8}\n",
    "        ,[\"ineuron\",\"datascience\"]]"
   ]
  },
  {
   "cell_type": "code",
   "execution_count": 4,
   "id": "5732f0bd",
   "metadata": {},
   "outputs": [
    {
     "data": {
      "text/plain": [
       "[[1, 2, 3, 4],\n",
       " (2, 3, 4, 5, 6),\n",
       " (3, 4, 5, 6, 7),\n",
       " {4, 5, 23, 45},\n",
       " {'k1': 'sudh', 'k2': 'ineuron', 'k3': 'kumar', 3: 6, 7: 8},\n",
       " ['ineuron', 'datascience']]"
      ]
     },
     "execution_count": 4,
     "metadata": {},
     "output_type": "execute_result"
    }
   ],
   "source": [
    "l"
   ]
  },
  {
   "cell_type": "markdown",
   "id": "6687d7bf",
   "metadata": {},
   "source": [
    "# 3 print the list"
   ]
  },
  {
   "cell_type": "code",
   "execution_count": 5,
   "id": "e6f0c4de",
   "metadata": {},
   "outputs": [
    {
     "name": "stdout",
     "output_type": "stream",
     "text": [
      "[1, 2, 3, 4]\n",
      "['ineuron', 'datascience']\n"
     ]
    }
   ],
   "source": [
    "for i in l :\n",
    "    if type(i)==list:\n",
    "        print(i)"
   ]
  },
  {
   "cell_type": "markdown",
   "id": "4ad8e931",
   "metadata": {},
   "source": [
    "# 4. print dict entities"
   ]
  },
  {
   "cell_type": "code",
   "execution_count": 6,
   "id": "6073d2fc",
   "metadata": {},
   "outputs": [
    {
     "name": "stdout",
     "output_type": "stream",
     "text": [
      "{'k1': 'sudh', 'k2': 'ineuron', 'k3': 'kumar', 3: 6, 7: 8}\n"
     ]
    }
   ],
   "source": [
    "for i in l :\n",
    "    if type(i)==dict:\n",
    "        print(i)"
   ]
  },
  {
   "cell_type": "markdown",
   "id": "70dc74a7",
   "metadata": {},
   "source": [
    "# 5. print tuple entities"
   ]
  },
  {
   "cell_type": "code",
   "execution_count": 7,
   "id": "e922f490",
   "metadata": {},
   "outputs": [
    {
     "name": "stdout",
     "output_type": "stream",
     "text": [
      "(2, 3, 4, 5, 6)\n",
      "(3, 4, 5, 6, 7)\n"
     ]
    }
   ],
   "source": [
    "for i in l :\n",
    "    if type(i)==tuple:\n",
    "        print(i)"
   ]
  },
  {
   "cell_type": "markdown",
   "id": "315435f9",
   "metadata": {},
   "source": [
    "# 6. extract numerical value"
   ]
  },
  {
   "cell_type": "code",
   "execution_count": 8,
   "id": "3a4c4cee",
   "metadata": {},
   "outputs": [
    {
     "name": "stdout",
     "output_type": "stream",
     "text": [
      "1 2 3 4 2 3 4 5 6 3 4 5 6 7 45 4 5 23 3 6 7 8 "
     ]
    }
   ],
   "source": [
    "for i in l :\n",
    "    if type(i) == list or type(i) == tuple or type(i) == set:\n",
    "        for j in i :\n",
    "            if type(j) == int:\n",
    "                print(j , end = \" \") \n",
    "    if type(i) == dict :\n",
    "        for j in i :\n",
    "            if type(j)==int:\n",
    "                print(j,i[j], end = \" \")"
   ]
  },
  {
   "cell_type": "markdown",
   "id": "4412c573",
   "metadata": {},
   "source": [
    "#  7. give summation of all numeric data"
   ]
  },
  {
   "cell_type": "code",
   "execution_count": 9,
   "id": "b5ca07ce",
   "metadata": {},
   "outputs": [
    {
     "name": "stdout",
     "output_type": "stream",
     "text": [
      "156\n"
     ]
    }
   ],
   "source": [
    "sum = 0\n",
    "for i in l :\n",
    "    if type(i) == list or type(i) == tuple or type(i) == set or type(i) == dict:\n",
    "        for j in i :\n",
    "            if type(j) == int:\n",
    "                sum= sum+j\n",
    "\n",
    "\n",
    "    if type(i) == dict :\n",
    "        for j in i :\n",
    "            if type(j)==int:\n",
    "                sum=sum + i[j]\n",
    "print(sum)               "
   ]
  },
  {
   "cell_type": "markdown",
   "id": "a3dc1dcc",
   "metadata": {},
   "source": [
    "# 8. filter out the odd numeric data which is the part of the list"
   ]
  },
  {
   "cell_type": "code",
   "execution_count": 10,
   "id": "0236abed",
   "metadata": {},
   "outputs": [
    {
     "name": "stdout",
     "output_type": "stream",
     "text": [
      "1 3 3 5 3 5 7 45 5 23 3 7 "
     ]
    }
   ],
   "source": [
    "for i in l :\n",
    "    if type(i) == list or type(i)==tuple or type(i) == set or type(i) == dict :\n",
    "        for j in i :\n",
    "            if type(j) == int :\n",
    "                if j%2!=0:\n",
    "                    print(j,end=\" \")\n",
    "    if type(i)==dict:\n",
    "        for j in i :\n",
    "            if j == int:\n",
    "                if j%2!=0:\n",
    "                    print(j)"
   ]
  },
  {
   "cell_type": "markdown",
   "id": "967b8f13",
   "metadata": {},
   "source": [
    "# 9. try to extract ineuron out of this data"
   ]
  },
  {
   "cell_type": "code",
   "execution_count": 77,
   "id": "b8b079da",
   "metadata": {},
   "outputs": [
    {
     "name": "stdout",
     "output_type": "stream",
     "text": [
      "ineuron\n",
      "ineuron\n"
     ]
    }
   ],
   "source": [
    "for i in l :\n",
    "    if type(i)==list or type(i)==tuple :\n",
    "        for j in i :\n",
    "            if j == 'ineuron':\n",
    "                print(j)\n",
    "    elif type(i)== dict :\n",
    "        for j in i.items() :\n",
    "            for g in j :\n",
    "                \n",
    "                if g == \"ineuron\":\n",
    "                    print(g)\n",
    "    "
   ]
  },
  {
   "cell_type": "markdown",
   "id": "ff6c54d4",
   "metadata": {},
   "source": [
    "# 10. count the occurences of the data"
   ]
  },
  {
   "cell_type": "code",
   "execution_count": 87,
   "id": "9638b2c3",
   "metadata": {},
   "outputs": [],
   "source": [
    "l1=[]\n",
    "for i in l :\n",
    "    if type(i) == list or type(i) == tuple or type(i)==set :\n",
    "        for j in i :\n",
    "            l1.append(j)\n",
    "    if type(i) == dict :\n",
    "        for j in i.items():\n",
    "            for g in j:\n",
    "                l1.append(g)\n",
    "        "
   ]
  },
  {
   "cell_type": "code",
   "execution_count": 89,
   "id": "5435d874",
   "metadata": {},
   "outputs": [],
   "source": [
    "l2 =set(l1)"
   ]
  },
  {
   "cell_type": "code",
   "execution_count": 95,
   "id": "38763b83",
   "metadata": {},
   "outputs": [
    {
     "name": "stdout",
     "output_type": "stream",
     "text": [
      "k1 ; 1\n",
      "1 ; 1\n",
      "2 ; 2\n",
      "3 ; 4\n",
      "4 ; 4\n",
      "5 ; 3\n",
      "6 ; 3\n",
      "7 ; 2\n",
      "ineuron ; 2\n",
      "k3 ; 1\n",
      "k2 ; 1\n",
      "kumar ; 1\n",
      "8 ; 1\n",
      "45 ; 1\n",
      "sudh ; 1\n",
      "23 ; 1\n",
      "datascience ; 1\n"
     ]
    }
   ],
   "source": [
    "for i in l2 :\n",
    "    print(i, \";\",l1.count(i))"
   ]
  },
  {
   "cell_type": "markdown",
   "id": "b25dfff7",
   "metadata": {},
   "source": [
    "# 11. find number of keys in a dict element"
   ]
  },
  {
   "cell_type": "code",
   "execution_count": 14,
   "id": "2ddafc39",
   "metadata": {},
   "outputs": [
    {
     "name": "stdout",
     "output_type": "stream",
     "text": [
      "5\n"
     ]
    }
   ],
   "source": [
    "\n",
    "for i in l:\n",
    "    if type(i) == dict :\n",
    "            print(len(i.keys()))"
   ]
  },
  {
   "cell_type": "markdown",
   "id": "e49d7fab",
   "metadata": {},
   "source": [
    "# 12. try to filter out all the string data"
   ]
  },
  {
   "cell_type": "code",
   "execution_count": 15,
   "id": "a128e619",
   "metadata": {},
   "outputs": [
    {
     "name": "stdout",
     "output_type": "stream",
     "text": [
      "k1\n",
      "k2\n",
      "k3\n",
      "ineuron\n",
      "datascience\n",
      "sudh\n",
      "ineuron\n",
      "kumar\n"
     ]
    }
   ],
   "source": [
    "for i in l :\n",
    "    for j in i :\n",
    "        if type(j) == str:\n",
    "            print(j)\n",
    "for i in l :            \n",
    "    if type(i) == dict :\n",
    "        for j in i:\n",
    "            if type(j)==str :\n",
    "                print(i[j])\n"
   ]
  },
  {
   "cell_type": "markdown",
   "id": "eba7ee6e",
   "metadata": {},
   "source": [
    "#  rough work"
   ]
  },
  {
   "cell_type": "code",
   "execution_count": 16,
   "id": "611efc59",
   "metadata": {},
   "outputs": [
    {
     "name": "stdout",
     "output_type": "stream",
     "text": [
      "sudh\n",
      "ineuron\n",
      "kumar\n"
     ]
    }
   ],
   "source": [
    "for i in l :\n",
    "    if type(i) == dict: \n",
    "        for j in i :\n",
    "            if type(j) == str:\n",
    "                print(i[j])\n",
    "            "
   ]
  },
  {
   "cell_type": "markdown",
   "id": "6f2ec659",
   "metadata": {},
   "source": [
    "# 13 try to find alphanum in the data"
   ]
  },
  {
   "cell_type": "code",
   "execution_count": 17,
   "id": "e4914f48",
   "metadata": {},
   "outputs": [
    {
     "name": "stdout",
     "output_type": "stream",
     "text": [
      "k1\n",
      "k2\n",
      "k3\n",
      "ineuron\n",
      "datascience\n"
     ]
    }
   ],
   "source": [
    "for i in l:\n",
    "    for j in i :\n",
    "        if type(j) == str:\n",
    "            x=j.isalnum()\n",
    "            if x==True:\n",
    "                print(j)"
   ]
  },
  {
   "cell_type": "code",
   "execution_count": 18,
   "id": "1a055ec8",
   "metadata": {},
   "outputs": [
    {
     "name": "stdout",
     "output_type": "stream",
     "text": [
      "True\n"
     ]
    }
   ],
   "source": [
    "y = \"deepika\"\n",
    "print(y.isalnum())"
   ]
  },
  {
   "cell_type": "markdown",
   "id": "2fc4f966",
   "metadata": {},
   "source": [
    "# 14 try to find out mutiplication of all numeric value in the individual collction inside  dataset"
   ]
  },
  {
   "cell_type": "code",
   "execution_count": 120,
   "id": "43c2aab0",
   "metadata": {},
   "outputs": [],
   "source": [
    "l2 =[]\n",
    "for i in l :\n",
    "    if type(i) ==set or type(i) ==list or type(i)==tuple :\n",
    "        for j in i :\n",
    "            if type(j) == int :\n",
    "                l2.append(j)\n",
    "            \n",
    "            \n",
    "for i in l :\n",
    "    if type(i)== dict :\n",
    "        for j in i.items():\n",
    "            for g in j :\n",
    "                if type(g) == int :\n",
    "                    l2.append(g)\n",
    "\n",
    "                \n",
    "                \n",
    "                \n",
    "        \n",
    "        "
   ]
  },
  {
   "cell_type": "code",
   "execution_count": 121,
   "id": "39e200e0",
   "metadata": {},
   "outputs": [
    {
     "data": {
      "text/plain": [
       "[1, 2, 3, 4, 2, 3, 4, 5, 6, 3, 4, 5, 6, 7, 45, 4, 5, 23, 3, 6, 7, 8]"
      ]
     },
     "execution_count": 121,
     "metadata": {},
     "output_type": "execute_result"
    }
   ],
   "source": [
    "l2"
   ]
  },
  {
   "cell_type": "code",
   "execution_count": 131,
   "id": "7a33efb7",
   "metadata": {},
   "outputs": [
    {
     "name": "stdout",
     "output_type": "stream",
     "text": [
      "908605071360000\n"
     ]
    }
   ],
   "source": [
    "mult = 1\n",
    "for i in l2 :\n",
    "    mult= mult* i\n",
    "print(mult)    "
   ]
  },
  {
   "cell_type": "markdown",
   "id": "818e6de4",
   "metadata": {},
   "source": [
    "#  to find the multiplication of individual set"
   ]
  },
  {
   "cell_type": "code",
   "execution_count": 142,
   "id": "ad02e4d6",
   "metadata": {},
   "outputs": [
    {
     "name": "stdout",
     "output_type": "stream",
     "text": [
      "24\n",
      "720\n",
      "2520\n",
      "20700\n",
      "1008\n",
      "1\n"
     ]
    }
   ],
   "source": [
    " for i in l:\n",
    "        u = 1 \n",
    "        if type(i)== list or type (i) == tuple or type(i) == set :\n",
    "            for j in i :\n",
    "                if type(j) == int:\n",
    "                    u = u * j\n",
    "            print(u)\n",
    "        if type(i) == dict :\n",
    "            for j in i.items():\n",
    "                for r in j :\n",
    "                    if type(r)==int:\n",
    "                        u = u*r\n",
    "            print(u)"
   ]
  },
  {
   "cell_type": "markdown",
   "id": "dfd54463",
   "metadata": {},
   "source": [
    "# 15 try to unwrap the collection and make a flat list"
   ]
  },
  {
   "cell_type": "code",
   "execution_count": 136,
   "id": "3543fa02",
   "metadata": {},
   "outputs": [
    {
     "name": "stdout",
     "output_type": "stream",
     "text": [
      "[1, 2, 3, 4, 2, 3, 4, 5, 6, 3, 4, 5, 6, 7, 45, 4, 5, 23, 'k1', 'k2', 'k3', 3, 7, 'ineuron', 'datascience', 'k1', 'sudh', 'k2', 'ineuron', 'k3', 'kumar', 3, 6, 7, 8]\n"
     ]
    }
   ],
   "source": [
    "l1 = []\n",
    "for i in l :\n",
    "    for j in i :\n",
    "        l1.append(j)\n",
    "    if type(j) == dict:    \n",
    "        l3 = list[j]\n",
    "        l1.append[l3]\n",
    "\n",
    "for i in l :\n",
    "    if type(i)==dict:\n",
    "         for j in i.items() :\n",
    "                for r in j :\n",
    "                    l1.append(r)\n",
    "print(l1)            \n",
    "    "
   ]
  },
  {
   "cell_type": "code",
   "execution_count": 42,
   "id": "cd8b3269",
   "metadata": {},
   "outputs": [],
   "source": [
    "d = {3:4,5:6,7:8}"
   ]
  },
  {
   "cell_type": "code",
   "execution_count": 43,
   "id": "4e156076",
   "metadata": {},
   "outputs": [],
   "source": [
    "doubt"
   ]
  },
  {
   "cell_type": "code",
   "execution_count": 53,
   "id": "df1b6dd0",
   "metadata": {},
   "outputs": [],
   "source": [
    "v =[]\n",
    "v.append(d.keys())\n",
    "v.append(d.values())\n"
   ]
  },
  {
   "cell_type": "code",
   "execution_count": 54,
   "id": "87fe85eb",
   "metadata": {},
   "outputs": [
    {
     "name": "stdout",
     "output_type": "stream",
     "text": [
      "[dict_keys([3, 5, 7]), dict_values([4, 6, 8])]\n"
     ]
    }
   ],
   "source": [
    "print(v)"
   ]
  },
  {
   "cell_type": "code",
   "execution_count": null,
   "id": "8d31197b",
   "metadata": {},
   "outputs": [],
   "source": []
  }
 ],
 "metadata": {
  "kernelspec": {
   "display_name": "Python 3 (ipykernel)",
   "language": "python",
   "name": "python3"
  },
  "language_info": {
   "codemirror_mode": {
    "name": "ipython",
    "version": 3
   },
   "file_extension": ".py",
   "mimetype": "text/x-python",
   "name": "python",
   "nbconvert_exporter": "python",
   "pygments_lexer": "ipython3",
   "version": "3.9.12"
  }
 },
 "nbformat": 4,
 "nbformat_minor": 5
}
