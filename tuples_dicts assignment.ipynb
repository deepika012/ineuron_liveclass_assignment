{
 "cells": [
  {
   "cell_type": "code",
   "execution_count": 9,
   "id": "a3862f50",
   "metadata": {},
   "outputs": [],
   "source": [
    "l = [3,4,5,6,7,[23,456,67,8,78] , [345,56,87,89,89] , (234,66,57,6) ,{\"key1\":\"sudh\" , 234 : [23,456,56] }]"
   ]
  },
  {
   "cell_type": "code",
   "execution_count": 10,
   "id": "5969d386",
   "metadata": {},
   "outputs": [
    {
     "data": {
      "text/plain": [
       "[3,\n",
       " 4,\n",
       " 5,\n",
       " 6,\n",
       " 7,\n",
       " [23, 456, 67, 8, 78],\n",
       " [345, 56, 87, 89, 89],\n",
       " (234, 66, 57, 6),\n",
       " {'key1': 'sudh', 234: [23, 456, 56]}]"
      ]
     },
     "execution_count": 10,
     "metadata": {},
     "output_type": "execute_result"
    }
   ],
   "source": [
    "l"
   ]
  },
  {
   "cell_type": "markdown",
   "id": "552138ad",
   "metadata": {},
   "source": [
    "#  1 reversing a list"
   ]
  },
  {
   "cell_type": "code",
   "execution_count": 11,
   "id": "954c16e7",
   "metadata": {},
   "outputs": [
    {
     "data": {
      "text/plain": [
       "[{'key1': 'sudh', 234: [23, 456, 56]},\n",
       " (234, 66, 57, 6),\n",
       " [345, 56, 87, 89, 89],\n",
       " [23, 456, 67, 8, 78],\n",
       " 7,\n",
       " 6,\n",
       " 5,\n",
       " 4,\n",
       " 3]"
      ]
     },
     "execution_count": 11,
     "metadata": {},
     "output_type": "execute_result"
    }
   ],
   "source": [
    "l[::-1]"
   ]
  },
  {
   "cell_type": "markdown",
   "id": "41af9bb3",
   "metadata": {},
   "source": [
    "#  2 access 234 from the list"
   ]
  },
  {
   "cell_type": "code",
   "execution_count": 8,
   "id": "3e25ea52",
   "metadata": {},
   "outputs": [
    {
     "data": {
      "text/plain": [
       "234"
      ]
     },
     "execution_count": 8,
     "metadata": {},
     "output_type": "execute_result"
    }
   ],
   "source": [
    "l[7][0]"
   ]
  },
  {
   "cell_type": "markdown",
   "id": "9f61abd5",
   "metadata": {},
   "source": [
    "# 3 try to access 456"
   ]
  },
  {
   "cell_type": "code",
   "execution_count": 16,
   "id": "e06a0346",
   "metadata": {},
   "outputs": [
    {
     "data": {
      "text/plain": [
       "456"
      ]
     },
     "execution_count": 16,
     "metadata": {},
     "output_type": "execute_result"
    }
   ],
   "source": [
    "l[8][234][1]"
   ]
  },
  {
   "cell_type": "markdown",
   "id": "3608ea4f",
   "metadata": {},
   "source": [
    "# 4  try to collect only list in l  (doubt)"
   ]
  },
  {
   "cell_type": "code",
   "execution_count": 22,
   "id": "3ce10b21",
   "metadata": {},
   "outputs": [
    {
     "data": {
      "text/plain": [
       "[3,\n",
       " 4,\n",
       " 5,\n",
       " 6,\n",
       " 7,\n",
       " [23, 456, 67, 8, 78],\n",
       " [345, 56, 87, 89, 89],\n",
       " (234, 66, 57, 6),\n",
       " {'key1': 'sudh', 234: [23, 456, 56]}]"
      ]
     },
     "execution_count": 22,
     "metadata": {},
     "output_type": "execute_result"
    }
   ],
   "source": [
    "l"
   ]
  },
  {
   "cell_type": "code",
   "execution_count": 28,
   "id": "084e4b2b",
   "metadata": {},
   "outputs": [
    {
     "ename": "NameError",
     "evalue": "name 'List' is not defined",
     "output_type": "error",
     "traceback": [
      "\u001b[1;31m---------------------------------------------------------------------------\u001b[0m",
      "\u001b[1;31mNameError\u001b[0m                                 Traceback (most recent call last)",
      "Input \u001b[1;32mIn [28]\u001b[0m, in \u001b[0;36m<cell line: 1>\u001b[1;34m()\u001b[0m\n\u001b[1;32m----> 1\u001b[0m s \u001b[38;5;241m=\u001b[39m \u001b[43mList\u001b[49m(l)\n",
      "\u001b[1;31mNameError\u001b[0m: name 'List' is not defined"
     ]
    }
   ],
   "source": [
    "s = List(l)"
   ]
  },
  {
   "cell_type": "markdown",
   "id": "52d30122",
   "metadata": {},
   "source": [
    "# 5 extact \"sudh"
   ]
  },
  {
   "cell_type": "code",
   "execution_count": 36,
   "id": "45abc6cd",
   "metadata": {},
   "outputs": [
    {
     "data": {
      "text/plain": [
       "'sudh'"
      ]
     },
     "execution_count": 36,
     "metadata": {},
     "output_type": "execute_result"
    }
   ],
   "source": [
    "l[8]['key1']"
   ]
  },
  {
   "cell_type": "markdown",
   "id": "deaf433f",
   "metadata": {},
   "source": [
    "#  try to list all the key in the list"
   ]
  },
  {
   "cell_type": "code",
   "execution_count": 41,
   "id": "87f232b4",
   "metadata": {},
   "outputs": [
    {
     "data": {
      "text/plain": [
       "dict_keys(['key1', 234])"
      ]
     },
     "execution_count": 41,
     "metadata": {},
     "output_type": "execute_result"
    }
   ],
   "source": [
    "l[8].keys()"
   ]
  },
  {
   "cell_type": "markdown",
   "id": "f7b3c965",
   "metadata": {},
   "source": [
    "#  try to extract all the value element from dict available in list"
   ]
  },
  {
   "cell_type": "code",
   "execution_count": 45,
   "id": "8bf5f4b1",
   "metadata": {},
   "outputs": [
    {
     "data": {
      "text/plain": [
       "dict_values(['sudh', [23, 456, 56]])"
      ]
     },
     "execution_count": 45,
     "metadata": {},
     "output_type": "execute_result"
    }
   ],
   "source": [
    "l[8].values()"
   ]
  },
  {
   "cell_type": "code",
   "execution_count": null,
   "id": "43e8ee74",
   "metadata": {},
   "outputs": [],
   "source": []
  }
 ],
 "metadata": {
  "kernelspec": {
   "display_name": "Python 3 (ipykernel)",
   "language": "python",
   "name": "python3"
  },
  "language_info": {
   "codemirror_mode": {
    "name": "ipython",
    "version": 3
   },
   "file_extension": ".py",
   "mimetype": "text/x-python",
   "name": "python",
   "nbconvert_exporter": "python",
   "pygments_lexer": "ipython3",
   "version": "3.9.12"
  }
 },
 "nbformat": 4,
 "nbformat_minor": 5
}
